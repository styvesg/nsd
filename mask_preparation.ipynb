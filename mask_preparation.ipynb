{
 "cells": [
  {
   "cell_type": "code",
   "execution_count": 1,
   "metadata": {},
   "outputs": [
    {
     "data": {
      "text/html": [
       "<style>.container { width:95% !important; }</style>"
      ],
      "text/plain": [
       "<IPython.core.display.HTML object>"
      ]
     },
     "metadata": {},
     "output_type": "display_data"
    }
   ],
   "source": [
    "from IPython.core.display import display, HTML\n",
    "display(HTML(\"<style>.container { width:95% !important; }</style>\"))"
   ]
  },
  {
   "cell_type": "code",
   "execution_count": 2,
   "metadata": {},
   "outputs": [],
   "source": [
    "import sys\n",
    "import os\n",
    "import struct\n",
    "import time\n",
    "import numpy as np\n",
    "import h5py\n",
    "from scipy.stats import pearsonr\n",
    "from scipy.io import loadmat\n",
    "from tqdm import tqdm\n",
    "import pickle\n",
    "import math\n",
    "import matplotlib.pyplot as plt\n",
    "import seaborn as sns\n",
    "%matplotlib inline"
   ]
  },
  {
   "cell_type": "code",
   "execution_count": 4,
   "metadata": {},
   "outputs": [
    {
     "name": "stdout",
     "output_type": "stream",
     "text": [
      "Current dir: /home/styvesg/Documents/PostDoc/GitRepo/nsd/\n"
     ]
    }
   ],
   "source": [
    "root_dir = os.getcwd() + '/'\n",
    "output_dir = root_dir + \"output/\"\n",
    "\n",
    "if not os.path.exists(output_dir):\n",
    "    os.makedirs(output_dir)\n",
    "\n",
    "print (\"Current dir: %s\" % root_dir)"
   ]
  },
  {
   "cell_type": "markdown",
   "metadata": {},
   "source": [
    "## Load a dataset"
   ]
  },
  {
   "cell_type": "code",
   "execution_count": 5,
   "metadata": {},
   "outputs": [],
   "source": [
    "nsd_root = \"/home/styvesg/repo.data/datasets/nsd/\"\n",
    "stim_root = nsd_root + \"nsddata_stimuli/stimuli/nsd/\"\n",
    "beta_root = nsd_root + \"nsddata_betas/ppdata/\"\n",
    "mask_root = nsd_root + \"nsddata/ppdata/\""
   ]
  },
  {
   "cell_type": "code",
   "execution_count": 6,
   "metadata": {},
   "outputs": [],
   "source": [
    "from src.file_utility import load_mask_from_nii, view_data\n",
    "\n",
    "def iterate_roi(group, voxelroi, roimap, group_name=None):\n",
    "    for k,g in enumerate(group):\n",
    "        g_name = ('' if group_name is None else group_name[k])\n",
    "        mask = np.zeros(shape=voxelroi.shape, dtype=bool)\n",
    "        for i,roi in enumerate(g):\n",
    "            if group_name is None:\n",
    "                g_name += roimap[roi] + ('-' if i+1<len(g) else '')\n",
    "            mask = np.logical_or(mask, voxelroi==roi)\n",
    "        yield mask, g_name"
   ]
  },
  {
   "cell_type": "markdown",
   "metadata": {},
   "source": [
    "# Make early visual cortex masks"
   ]
  },
  {
   "cell_type": "code",
   "execution_count": 9,
   "metadata": {},
   "outputs": [],
   "source": [
    "subjects = [1, 2, 3, 4, 5, 6, 7, 8]"
   ]
  },
  {
   "cell_type": "code",
   "execution_count": 10,
   "metadata": {},
   "outputs": [
    {
     "name": "stdout",
     "output_type": "stream",
     "text": [
      "--------  subject 1  -------\n",
      "(81, 104, 83)\n",
      "mask selection length = 4627\n",
      "mask total length = 699192\n",
      "--------  subject 2  -------\n",
      "(82, 106, 84)\n",
      "mask selection length = 3765\n",
      "mask total length = 730128\n",
      "--------  subject 3  -------\n",
      "(81, 106, 82)\n",
      "mask selection length = 3778\n",
      "mask total length = 704052\n",
      "--------  subject 4  -------\n",
      "(85, 99, 80)\n",
      "mask selection length = 3027\n",
      "mask total length = 673200\n",
      "--------  subject 5  -------\n",
      "(79, 97, 78)\n",
      "mask selection length = 3685\n",
      "mask total length = 597714\n",
      "--------  subject 6  -------\n",
      "(85, 113, 83)\n",
      "mask selection length = 4024\n",
      "mask total length = 797215\n",
      "--------  subject 7  -------\n",
      "(78, 95, 81)\n",
      "mask selection length = 3201\n",
      "mask total length = 600210\n",
      "--------  subject 8  -------\n",
      "(80, 103, 78)\n",
      "mask selection length = 3490\n",
      "mask total length = 642720\n"
     ]
    }
   ],
   "source": [
    "roi_map = {1: 'V1v', 2: 'V1d', 3: 'V2v', 4: 'V2d', 5: 'V3v', 6: 'V3d', 7: 'v4'}\n",
    "group_names = ['V1v', 'V1d', 'V2v', 'V2d', 'V3v', 'V3d', 'V4',]\n",
    "group = [[1], [2], [3], [4], [5], [6], [7],]\n",
    "\n",
    "for k,s in enumerate(subjects):\n",
    "    print ('--------  subject %d  -------' % s)\n",
    "    voxel_roi_full = load_mask_from_nii(mask_root + \"subj%02d/func1pt8mm/roi/prf-visualrois.nii.gz\"%s)\n",
    "    brain_nii_shape = voxel_roi_full.shape\n",
    "    print (brain_nii_shape)\n",
    "\n",
    "    general_mask_full = (voxel_roi_full>0).flatten().astype(bool)\n",
    "    voxel_mask = general_mask_full\n",
    "    voxel_idx = np.arange(len(general_mask_full))[voxel_mask]\n",
    "    voxel_roi = voxel_roi_full.flatten()[voxel_mask]\n",
    "    \n",
    "    print ('mask selection length = %d'%np.sum(voxel_mask))\n",
    "    print ('mask total length = %d'%len(voxel_mask))\n",
    "    _ = view_data(brain_nii_shape, voxel_idx,  np.ones_like(voxel_idx), save_to=mask_root \\\n",
    "                  + \"subj%02d/func1pt8mm/brainmask_vcventral_1.0.nii\"%s)"
   ]
  },
  {
   "cell_type": "markdown",
   "metadata": {},
   "source": [
    "## Example"
   ]
  },
  {
   "cell_type": "code",
   "execution_count": 15,
   "metadata": {},
   "outputs": [
    {
     "data": {
      "image/png": "[encoded data removed]",
      "text/plain": [
       "<Figure size 864x288 with 4 Axes>"
      ]
     },
     "metadata": {},
     "output_type": "display_data"
    }
   ],
   "source": [
    "slice_idx = 25\n",
    "plt.figure(figsize=(12, 4))\n",
    "    \n",
    "volume_brain_mask = view_data(brain_nii_shape, voxel_idx, np.ones_like(voxel_idx), save_to=None)\n",
    "volume_brain_roi  = view_data(brain_nii_shape, voxel_idx, voxel_roi, save_to=None)\n",
    "##\n",
    "plt.subplot(1,3,1)\n",
    "plt.imshow(volume_brain_mask[:,:,slice_idx], cmap='gray', interpolation='None')\n",
    "plt.title('Mask')\n",
    "plt.colorbar()\n",
    "_=plt.ylabel('Subject %d'%s)\n",
    "_=plt.gca().set_xticklabels([])\n",
    "_=plt.gca().set_yticklabels([])\n",
    "plt.subplot(1,3,2)\n",
    "plt.imshow(volume_brain_roi[:,:,slice_idx], cmap='jet', interpolation='None')\n",
    "plt.clim([0,7])\n",
    "plt.title('ROI')\n",
    "plt.colorbar()\n",
    "_=plt.gca().set_xticklabels([])\n",
    "_=plt.gca().set_yticklabels([])"
   ]
  },
  {
   "cell_type": "markdown",
   "metadata": {},
   "source": [
    "# Make visual cortex masks"
   ]
  },
  {
   "cell_type": "code",
   "execution_count": 16,
   "metadata": {},
   "outputs": [
    {
     "name": "stdout",
     "output_type": "stream",
     "text": [
      "--------  subject 1  -------\n",
      "(81, 104, 83)\n",
      "(kastner selection length = 10971)\n",
      "mask selection length = 11838\n",
      "mask total length = 699192\n",
      "--------  subject 2  -------\n",
      "(82, 106, 84)\n",
      "(kastner selection length = 9709)\n",
      "mask selection length = 10325\n",
      "mask total length = 730128\n",
      "--------  subject 3  -------\n",
      "(81, 106, 82)\n",
      "(kastner selection length = 10560)\n",
      "mask selection length = 11356\n",
      "mask total length = 704052\n",
      "--------  subject 4  -------\n",
      "(85, 99, 80)\n",
      "(kastner selection length = 8963)\n",
      "mask selection length = 9470\n",
      "mask total length = 673200\n",
      "--------  subject 5  -------\n",
      "(79, 97, 78)\n",
      "(kastner selection length = 8989)\n",
      "mask selection length = 9565\n",
      "mask total length = 597714\n",
      "--------  subject 6  -------\n",
      "(85, 113, 83)\n",
      "(kastner selection length = 11459)\n",
      "mask selection length = 11827\n",
      "mask total length = 797215\n",
      "--------  subject 7  -------\n",
      "(78, 95, 81)\n",
      "(kastner selection length = 8440)\n",
      "mask selection length = 9162\n",
      "mask total length = 600210\n",
      "--------  subject 8  -------\n",
      "(80, 103, 78)\n",
      "(kastner selection length = 9484)\n",
      "mask selection length = 10178\n",
      "mask total length = 642720\n"
     ]
    }
   ],
   "source": [
    "roi_map = {1: 'V1v', 2: 'V1d', 3: 'V2v', 4: 'V2d', 5: 'V3v', 6: 'V3d', 7: 'hV4', 8: 'VO1', 9: 'VO2', \\\n",
    "           10: 'PHC1', 11: 'PHC2', 12: 'MST', 13: 'hMT', 14: 'LO2', 15: 'LO1', 16: 'V3b', 17: 'V3a', \\\n",
    "           18: 'IPS0', 19: 'IPS1', 20: 'IPS2', 21: 'IPS3', 22: 'IPS4', 23: 'IPS5', 24: 'SPL1', 25: 'FEF',\\\n",
    "           0: 'other'}\n",
    "\n",
    "for k,s in enumerate(subjects):\n",
    "    print ('--------  subject %d  -------' % s)\n",
    "    voxel_roi_full = load_mask_from_nii(mask_root + \"subj%02d/func1pt8mm/roi/prf-visualrois.nii.gz\"%s)\n",
    "    voxel_kast_full     = load_mask_from_nii(mask_root + \"subj%02d/func1pt8mm/roi/Kastner2015.nii.gz\"%(s))\n",
    "    general_mask_full  = load_mask_from_nii(mask_root + \"subj%02d/func1pt8mm/roi/nsdgeneral.nii.gz\"%(s))\n",
    "    ###\n",
    "    \n",
    "    brain_nii_shape = voxel_roi_full.shape\n",
    "    print (brain_nii_shape)\n",
    "\n",
    "    ###\n",
    "    voxel_mask_full = (voxel_roi_full>0).flatten().astype(bool)\n",
    "    voxel_joined_roi_full = np.copy(voxel_kast_full.flatten())  # take the kastner rois\n",
    "    voxel_joined_roi_full[voxel_mask_full] = voxel_roi_full.flatten()[voxel_mask_full] # overwrite the prf visual rois\n",
    "    voxel_joined_mask_full = (voxel_joined_roi_full>0).flatten().astype(bool)\n",
    "    ###\n",
    "    \n",
    "    voxel_mask = voxel_joined_mask_full\n",
    "    voxel_idx = np.arange(len(voxel_joined_mask_full))[voxel_mask]\n",
    "    voxel_roi = voxel_joined_roi_full[voxel_mask]\n",
    "        \n",
    "    print ('(kastner selection length = %d)'%np.sum(voxel_kast_full>0))\n",
    "    print ('mask selection length = %d'%np.sum(voxel_mask))\n",
    "    print ('mask total length = %d'%len(voxel_mask))\n",
    "    _ = view_data(brain_nii_shape, voxel_idx,  np.ones_like(voxel_idx), save_to=mask_root \\\n",
    "                  + \"subj%02d/func1pt8mm/brainmask_nsdgeneral_1.0.nii\"%s)"
   ]
  },
  {
   "cell_type": "markdown",
   "metadata": {},
   "source": [
    "## Example"
   ]
  },
  {
   "cell_type": "code",
   "execution_count": 18,
   "metadata": {},
   "outputs": [
    {
     "data": {
      "image/png": "[encoded data removed]",
      "text/plain": [
       "<Figure size 864x288 with 4 Axes>"
      ]
     },
     "metadata": {},
     "output_type": "display_data"
    }
   ],
   "source": [
    "slice_idx = 25\n",
    "plt.figure(figsize=(12, 4))\n",
    "    \n",
    "volume_brain_mask = view_data(brain_nii_shape, voxel_idx, np.ones_like(voxel_idx), save_to=None)\n",
    "volume_brain_roi  = view_data(brain_nii_shape, voxel_idx, voxel_roi, save_to=None)\n",
    "##\n",
    "plt.subplot(1,3,1)\n",
    "plt.imshow(volume_brain_mask[:,:,slice_idx], cmap='gray', interpolation='None')\n",
    "plt.title('Mask')\n",
    "plt.colorbar()\n",
    "_=plt.ylabel('Subject %d'%s)\n",
    "_=plt.gca().set_xticklabels([])\n",
    "_=plt.gca().set_yticklabels([])\n",
    "plt.subplot(1,3,2)\n",
    "plt.imshow(volume_brain_roi[:,:,slice_idx], cmap='jet', interpolation='None')\n",
    "plt.clim([0,7])\n",
    "plt.title('ROI')\n",
    "plt.colorbar()\n",
    "_=plt.gca().set_xticklabels([])\n",
    "_=plt.gca().set_yticklabels([])"
   ]
  },
  {
   "cell_type": "markdown",
   "metadata": {},
   "source": [
    "# Make whole brain masks\n",
    "## We need mask that are as tight as possible on the brain. The provided brainmasks are too loose and result in a prohibitive compute cost (almost half of the voxels can be entirely avoided)"
   ]
  },
  {
   "cell_type": "code",
   "execution_count": 20,
   "metadata": {},
   "outputs": [],
   "source": [
    "subject = 1\n",
    "brain_r2_full     = load_mask_from_nii(beta_root + \"subj%02d/func1pt8mm/betas_fithrf_GLMdenoise_RR/R2.nii.gz\"%(subject,))\n",
    "brain_mask_full   = load_mask_from_nii(mask_root + \"subj%02d/func1pt8mm/brainmask.nii.gz\"%(subject))\n",
    "brain_anat_full   = load_mask_from_nii(mask_root + \"subj%02d/func1pt8mm/T1_to_func1pt8mm.nii.gz\"%(subject))\n",
    "brain_seg_full    = load_mask_from_nii(mask_root + \"subj%02d/func1pt8mm/aseg.nii.gz\"%(subject))\n",
    "brain_roi_full    = load_mask_from_nii(mask_root + \"subj%02d/func1pt8mm/roi/Kastner2015.nii.gz\"%(subject))\n",
    "general_mask_full = load_mask_from_nii(mask_root + \"subj%02d/func1pt8mm/roi/nsdgeneral.nii.gz\"%(subject))\n",
    "\n",
    "brain_nii_shape = brain_mask_full.shape\n",
    "brain_mask_full   = brain_mask_full.flatten().astype(bool)\n",
    "general_mask_full = (general_mask_full==1).flatten().astype(bool)\n",
    "\n",
    "voxel_seg_full = (brain_seg_full!=0).flatten()\n",
    "voxel_idx_full = np.arange(len(brain_mask_full))\n",
    "voxel_gen_full = (general_mask_full==1).flatten().astype(bool)\n",
    "voxel_roi_full = brain_roi_full.flatten()\n",
    "\n",
    "_ = view_data(brain_nii_shape, voxel_idx_full, brain_roi_full.flatten(), save_to=output_dir + \"S%02d/roi_redo.nii\"%(subject))\n",
    "_ = view_data(brain_nii_shape, voxel_idx_full, brain_seg_full.flatten(), save_to=output_dir + \"S%02d/aseg_redo.nii\"%(subject))\n",
    "_ = view_data(brain_nii_shape, voxel_idx_full, brain_anat_full.flatten(), save_to=output_dir + \"S%02d/anat_redo.nii\"%(subject))\n",
    "\n",
    "voxel_seg_brain = voxel_seg_full[brain_mask_full]\n",
    "voxel_idx_brain = voxel_idx_full[brain_mask_full]\n",
    "voxel_roi_brain = voxel_roi_full[brain_mask_full]\n",
    "voxel_gen_brain = voxel_gen_full[brain_mask_full]\n",
    "\n",
    "voxel_seg_general = voxel_seg_full[general_mask_full]\n",
    "voxel_idx_general = voxel_idx_full[general_mask_full]\n",
    "voxel_roi_general = voxel_roi_full[general_mask_full]"
   ]
  },
  {
   "cell_type": "code",
   "execution_count": 21,
   "metadata": {},
   "outputs": [
    {
     "data": {
      "image/png": "[encoded data removed]",
      "text/plain": [
       "<Figure size 1296x576 with 12 Axes>"
      ]
     },
     "metadata": {},
     "output_type": "display_data"
    }
   ],
   "source": [
    "volume_brain_mask = view_data(brain_nii_shape, voxel_idx_full, brain_mask_full)\n",
    "volume_brain_seg  = view_data(brain_nii_shape, voxel_idx_brain, voxel_seg_brain)\n",
    "volume_brain_roi  = view_data(brain_nii_shape, voxel_idx_brain, voxel_roi_brain)\n",
    "\n",
    "volume_general_mask = view_data(brain_nii_shape, voxel_idx_full, general_mask_full)\n",
    "volume_general_seg  = view_data(brain_nii_shape, voxel_idx_general, voxel_seg_general)\n",
    "volume_general_roi  = view_data(brain_nii_shape, voxel_idx_general, voxel_roi_general)\n",
    "\n",
    "slice_idx = 40\n",
    "fig = plt.figure(figsize=(18,8))\n",
    "plt.subplot(2,3,1)\n",
    "plt.imshow(volume_brain_mask[:,:,slice_idx], cmap='gray', interpolation='None')\n",
    "plt.title('Mask')\n",
    "plt.colorbar()\n",
    "_=plt.gca().set_xticklabels([])\n",
    "_=plt.gca().set_yticklabels([])\n",
    "plt.ylabel('brainmask')\n",
    "plt.subplot(2,3,2)\n",
    "plt.imshow(volume_brain_seg[:,:,slice_idx], cmap='gray', interpolation='None')\n",
    "plt.title('SEG')\n",
    "plt.colorbar()\n",
    "_=plt.gca().set_xticklabels([])\n",
    "_=plt.gca().set_yticklabels([])\n",
    "plt.subplot(2,3,3)\n",
    "plt.imshow(volume_brain_roi[:,:,slice_idx], cmap='jet', interpolation='None')\n",
    "plt.title('ROI')\n",
    "plt.colorbar()\n",
    "_=plt.gca().set_xticklabels([])\n",
    "_=plt.gca().set_yticklabels([])\n",
    "plt.subplot(2,3,4)\n",
    "plt.imshow(volume_general_mask[:,:,slice_idx], cmap='gray', interpolation='None')\n",
    "plt.title('Mask')\n",
    "plt.colorbar()\n",
    "_=plt.gca().set_xticklabels([])\n",
    "_=plt.gca().set_yticklabels([])\n",
    "plt.ylabel('nsdgeneral')\n",
    "plt.subplot(2,3,5)\n",
    "plt.imshow(volume_general_seg[:,:,slice_idx], cmap='gray', interpolation='None')\n",
    "plt.title('SEG')\n",
    "plt.colorbar()\n",
    "_=plt.gca().set_xticklabels([])\n",
    "_=plt.gca().set_yticklabels([])\n",
    "plt.subplot(2,3,6)\n",
    "plt.imshow(volume_general_roi[:,:,slice_idx], cmap='jet', interpolation='None')\n",
    "plt.title('ROI')\n",
    "plt.colorbar()\n",
    "_=plt.gca().set_xticklabels([])\n",
    "_=plt.gca().set_yticklabels([])"
   ]
  },
  {
   "cell_type": "code",
   "execution_count": 22,
   "metadata": {},
   "outputs": [],
   "source": [
    "tight_mask = np.logical_or(np.logical_or(voxel_seg_full, voxel_gen_full), voxel_roi_full>=0)\n",
    "\n",
    "voxel_idx_tight = voxel_idx_full[tight_mask]\n",
    "voxel_roi_tight = voxel_roi_full[tight_mask]"
   ]
  },
  {
   "cell_type": "code",
   "execution_count": 23,
   "metadata": {},
   "outputs": [
    {
     "data": {
      "image/png": "[encoded data removed]",
      "text/plain": [
       "<Figure size 1440x576 with 4 Axes>"
      ]
     },
     "metadata": {},
     "output_type": "display_data"
    }
   ],
   "source": [
    "volume_tight_mask = view_data(brain_nii_shape, voxel_idx_full, tight_mask)\n",
    "volume_tight_roi  = view_data(brain_nii_shape, voxel_idx_tight, voxel_roi_tight)\n",
    "\n",
    "slice_idx = 40\n",
    "fig = plt.figure(figsize=(20,8))\n",
    "plt.subplot(1,2,1)\n",
    "plt.imshow(volume_tight_mask[:,:,slice_idx], cmap='gray', interpolation='None')\n",
    "plt.title('Mask')\n",
    "plt.colorbar()\n",
    "_=plt.gca().set_xticklabels([])\n",
    "_=plt.gca().set_yticklabels([])\n",
    "plt.ylabel('brainmask')\n",
    "plt.subplot(1,2,2)\n",
    "plt.imshow(volume_tight_roi[:,:,slice_idx], cmap='jet', interpolation='None')\n",
    "plt.title('ROI')\n",
    "plt.colorbar()\n",
    "_=plt.gca().set_xticklabels([])\n",
    "_=plt.gca().set_yticklabels([])"
   ]
  },
  {
   "cell_type": "code",
   "execution_count": 24,
   "metadata": {},
   "outputs": [
    {
     "name": "stdout",
     "output_type": "stream",
     "text": [
      "tight masks voxel coverage = 206728\n",
      "original mask voxel coverage = 370503\n"
     ]
    }
   ],
   "source": [
    "print ('tight masks voxel coverage = %d'%np.sum(tight_mask))\n",
    "print ('original mask voxel coverage = %d'%np.sum(brain_mask_full))"
   ]
  },
  {
   "cell_type": "markdown",
   "metadata": {},
   "source": [
    "## Let's inflate the tight mask just a tiny bit to fill the ugly holes"
   ]
  },
  {
   "cell_type": "code",
   "execution_count": 25,
   "metadata": {},
   "outputs": [],
   "source": [
    "def inflate1d(x):\n",
    "    y = x.astype(np.float32)\n",
    "    return 1.*y + 0.5*np.roll(y,-1,axis=0) + 0.5*np.roll(y,1,axis=0)\n",
    "\n",
    "def inflate2d(x):\n",
    "    y = inflate1d(x)\n",
    "    return 1.*y + 0.5*np.roll(y,-1,axis=1) + 0.5*np.roll(y,1,axis=1)\n",
    "\n",
    "def inflate3d(x):\n",
    "    y = inflate2d(x)\n",
    "    return 1.*y + 0.5*np.roll(y,-1,axis=2) + 0.5*np.roll(y,1,axis=2)"
   ]
  },
  {
   "cell_type": "code",
   "execution_count": 27,
   "metadata": {},
   "outputs": [],
   "source": [
    "volume_inflated_mask = inflate3d(volume_tight_mask)>=1."
   ]
  },
  {
   "cell_type": "code",
   "execution_count": 28,
   "metadata": {},
   "outputs": [
    {
     "data": {
      "image/png": "[encoded data removed]",
      "text/plain": [
       "<Figure size 1440x576 with 1 Axes>"
      ]
     },
     "metadata": {},
     "output_type": "display_data"
    }
   ],
   "source": [
    "slice_idx = 40\n",
    "fig = plt.figure(figsize=(20,8))\n",
    "plt.subplot(1,2,1)\n",
    "plt.imshow(volume_inflated_mask[:,:,slice_idx], cmap='gray', interpolation='None')\n",
    "plt.title('Mask')\n",
    "_=plt.gca().set_xticklabels([])\n",
    "_=plt.gca().set_yticklabels([])"
   ]
  },
  {
   "cell_type": "code",
   "execution_count": 29,
   "metadata": {},
   "outputs": [
    {
     "name": "stdout",
     "output_type": "stream",
     "text": [
      "tight masks voxel coverage = 206728\n",
      "inflated tight masks voxel coverage = 238508\n",
      "original mask voxel coverage = 370503\n"
     ]
    }
   ],
   "source": [
    "print ('tight masks voxel coverage = %d'%np.sum(tight_mask))\n",
    "print ('inflated tight masks voxel coverage = %d'%np.sum(volume_inflated_mask))\n",
    "print ('original mask voxel coverage = %d'%np.sum(brain_mask_full))"
   ]
  },
  {
   "cell_type": "code",
   "execution_count": 31,
   "metadata": {},
   "outputs": [],
   "source": [
    "inflated_mask = volume_inflated_mask.flatten()\n",
    "\n",
    "voxel_idx_inflated = voxel_idx_full[inflated_mask]\n",
    "voxel_roi_inflated = voxel_roi_full[inflated_mask]"
   ]
  },
  {
   "cell_type": "code",
   "execution_count": 32,
   "metadata": {},
   "outputs": [
    {
     "data": {
      "image/png": "[encoded data removed]",
      "text/plain": [
       "<Figure size 1440x432 with 4 Axes>"
      ]
     },
     "metadata": {},
     "output_type": "display_data"
    }
   ],
   "source": [
    "volume_inflated_mask = view_data(brain_nii_shape, voxel_idx_full, inflated_mask)\n",
    "volume_inflated_roi  = view_data(brain_nii_shape, voxel_idx_inflated, voxel_roi_inflated)\n",
    "\n",
    "slice_idx = 40\n",
    "fig = plt.figure(figsize=(20,6))\n",
    "plt.subplot(1,3,1)\n",
    "plt.imshow(volume_inflated_mask[:,:,slice_idx], cmap='gray', interpolation='None')\n",
    "plt.title('Mask')\n",
    "plt.colorbar()\n",
    "_=plt.gca().set_xticklabels([])\n",
    "_=plt.gca().set_yticklabels([])\n",
    "plt.ylabel('brainmask')\n",
    "plt.subplot(1,3,2)\n",
    "plt.imshow(volume_inflated_roi[:,:,slice_idx], cmap='jet', interpolation='None')\n",
    "plt.title('ROI')\n",
    "plt.colorbar()\n",
    "_=plt.gca().set_xticklabels([])\n",
    "_=plt.gca().set_yticklabels([])"
   ]
  },
  {
   "cell_type": "markdown",
   "metadata": {},
   "source": [
    "# Create slightly inflated mask for all subjects"
   ]
  },
  {
   "cell_type": "code",
   "execution_count": 35,
   "metadata": {},
   "outputs": [
    {
     "name": "stdout",
     "output_type": "stream",
     "text": [
      "subject = 1\n",
      "   tight  \t<  inflated  \t<  original\n",
      "   206728  \t<  238508  \t<  370503\n",
      "subject = 2\n",
      "   tight  \t<  inflated  \t<  original\n",
      "   214038  \t<  242606  \t<  343107\n",
      "subject = 3\n",
      "   tight  \t<  inflated  \t<  original\n",
      "   216430  \t<  246730  \t<  358199\n",
      "subject = 4\n",
      "   tight  \t<  inflated  \t<  original\n",
      "   200341  \t<  229642  \t<  329650\n",
      "subject = 5\n",
      "   tight  \t<  inflated  \t<  original\n",
      "   178358  \t<  205761  \t<  302566\n",
      "subject = 6\n",
      "   tight  \t<  inflated  \t<  original\n",
      "   242203  \t<  275204  \t<  412281\n",
      "subject = 7\n",
      "   tight  \t<  inflated  \t<  original\n",
      "   174944  \t<  199944  \t<  296155\n",
      "subject = 8\n",
      "   tight  \t<  inflated  \t<  original\n",
      "   205938  \t<  234961  \t<  321595\n"
     ]
    }
   ],
   "source": [
    "for s in subjects:\n",
    "    print ('subject = %d' % s)\n",
    "    brain_mask_full   = load_mask_from_nii(mask_root + \"subj%02d/func1pt8mm/brainmask.nii.gz\"%s)\n",
    "    brain_seg_full    = load_mask_from_nii(mask_root + \"subj%02d/func1pt8mm/aseg.nii.gz\"%s)\n",
    "    brain_roi_full    = load_mask_from_nii(mask_root + \"subj%02d/func1pt8mm/roi/Kastner2015.nii.gz\"%s)\n",
    "    general_mask_full = load_mask_from_nii(mask_root + \"subj%02d/func1pt8mm/roi/nsdgeneral.nii.gz\"%s)\n",
    "    \n",
    "    brain_nii_shape = brain_mask_full.shape\n",
    "    brain_mask_full   = brain_mask_full.flatten().astype(bool)\n",
    "    general_mask_full = (general_mask_full==1).flatten().astype(bool)\n",
    "\n",
    "    voxel_seg_full = (brain_seg_full!=0).flatten()\n",
    "    voxel_idx_full = np.arange(len(brain_mask_full))\n",
    "    voxel_gen_full = (general_mask_full==1).flatten().astype(bool)\n",
    "    voxel_roi_full = brain_roi_full.flatten()\n",
    "    ###\n",
    "    tight_mask = np.logical_or(np.logical_or(voxel_seg_full, voxel_gen_full), voxel_roi_full>=0)\n",
    "    volume_tight_mask = view_data(brain_nii_shape, voxel_idx_full, tight_mask)\n",
    "    volume_inflated_mask = inflate3d(volume_tight_mask)>=1.\n",
    "    inflated_mask = volume_inflated_mask.flatten()\n",
    "    ###\n",
    "    print (\"   tight  \\t<  inflated  \\t<  original\")\n",
    "    print (\"   %d  \\t<  %d  \\t<  %d\"%(np.sum(tight_mask), np.sum(volume_inflated_mask.flatten()), np.sum(brain_mask_full.flatten())))\n",
    "    _ = view_data(brain_nii_shape, voxel_idx_full, inflated_mask, save_to=mask_root + \"subj%02d/func1pt8mm/brainmask_inflated_1.0.nii\"%s)"
   ]
  },
  {
   "cell_type": "code",
   "execution_count": null,
   "metadata": {},
   "outputs": [],
   "source": []
  }
 ],
 "metadata": {
  "kernelspec": {
   "display_name": "Python 3",
   "language": "python",
   "name": "python3"
  },
  "language_info": {
   "codemirror_mode": {
    "name": "ipython",
    "version": 3
   },
   "file_extension": ".py",
   "mimetype": "text/x-python",
   "name": "python",
   "nbconvert_exporter": "python",
   "pygments_lexer": "ipython3",
   "version": "3.6.9"
  }
 },
 "nbformat": 4,
 "nbformat_minor": 2
}
